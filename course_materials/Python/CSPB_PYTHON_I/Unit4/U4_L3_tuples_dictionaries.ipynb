{
 "cells": [
  {
   "cell_type": "markdown",
   "id": "9b074246",
   "metadata": {},
   "source": [
    "# ***PYTHON I | UNIT 4: DATA STRUCTURES | LESSON 3: TUPLES & DICTIONARIES***"
   ]
  },
  {
   "cell_type": "markdown",
   "id": "dff39678",
   "metadata": {},
   "source": [
    "#### What Are Tuples?\n",
    "A tuple is an immutable, ordered collection of elements.\n",
    "\n",
    "- Immutable: Once created, its values cannot be changed.\n",
    "- Ordered: The elements have a defined sequence.\n",
    "\n",
    "Tuples are defined using parentheses `()` or simply by separating elements with commas."
   ]
  },
  {
   "cell_type": "code",
   "execution_count": null,
   "id": "87e76588",
   "metadata": {},
   "outputs": [],
   "source": [
    "# Creating tuples\n",
    "empty_tuple = ()\n",
    "single_element_tuple = (1,)  # Comma is required for a single element\n",
    "my_tuple = (1, 2, 3, \"hello\")\n",
    "\n",
    "print(my_tuple)"
   ]
  },
  {
   "cell_type": "markdown",
   "id": "0076b572",
   "metadata": {},
   "source": [
    "##### Why Use Tuples?\n",
    "- Tuples are faster than lists because of their immutability.\n",
    "- Ideal for fixed collections of data, such as coordinates or constant configurations."
   ]
  },
  {
   "cell_type": "markdown",
   "id": "cf3fa04f",
   "metadata": {},
   "source": [
    "#### What Are Dictionaries?\n",
    "A dictionary is an unordered, mutable collection of key-value pairs.\n",
    "\n",
    "- Keys are unique and used to identify each value.\n",
    "- Values can be of any data type.\n",
    "\n",
    "Dictionaries are created using curly braces `{}` or the `dict()` function."
   ]
  },
  {
   "cell_type": "code",
   "execution_count": null,
   "id": "703b5968",
   "metadata": {},
   "outputs": [],
   "source": [
    "# Creating dictionaries\n",
    "empty_dict = {}\n",
    "person = {\"name\": \"Alice\", \"age\": 25, \"city\": \"New York\"}\n",
    "\n",
    "print(person)"
   ]
  },
  {
   "cell_type": "code",
   "execution_count": null,
   "id": "e29de6ec",
   "metadata": {},
   "outputs": [],
   "source": [
    "# Accessing values\n",
    "print(person[\"name\"])  # Output: Alice\n",
    "print(person.get(\"age\"))  # Output: 25"
   ]
  },
  {
   "cell_type": "code",
   "execution_count": null,
   "id": "917a7d8d",
   "metadata": {},
   "outputs": [],
   "source": [
    "# Adding a new key-value pair\n",
    "person[\"job\"] = \"Engineer\"\n",
    "\n",
    "# Updating an existing key\n",
    "person[\"age\"] = 26\n",
    "\n",
    "print(person)"
   ]
  },
  {
   "cell_type": "code",
   "execution_count": null,
   "id": "e4c36ae8",
   "metadata": {},
   "outputs": [],
   "source": [
    "# Remove a specific key\n",
    "del person[\"city\"]\n",
    "\n",
    "# Remove and return the value of a key\n",
    "job = person.pop(\"job\")\n",
    "\n",
    "print(\"Updated dictionary:\", person)\n",
    "print(\"Removed job:\", job)"
   ]
  },
  {
   "cell_type": "code",
   "execution_count": null,
   "id": "976764ae",
   "metadata": {},
   "outputs": [],
   "source": [
    "# Loop through keys\n",
    "for key in person:\n",
    "    print(\"Key:\", key)\n",
    "\n",
    "# Loop through values\n",
    "for value in person.values():\n",
    "    print(\"Value:\", value)\n",
    "\n",
    "# Loop through key-value pairs\n",
    "for key, value in person.items():\n",
    "    print(f\"{key}: {value}\")"
   ]
  },
  {
   "cell_type": "markdown",
   "id": "323cc750",
   "metadata": {},
   "source": [
    "Use the dictionary below to complete the following:\n",
    "\n",
    "- Use the `.get()` method to print the value of `itemThree`\n",
    "- Create `itemFour` and assign `4` as its value\n",
    "- Print itemFour without using the `.get()` method\n",
    "- Update `itemTwo` and reassign its value to `0`\n",
    "- Use a loop to print out each value and key\n",
    "- Use `del` to remove `itemOne`\n",
    "- Use `.pop()` to remove and print `itemFour`\n",
    "- print the dictionary"
   ]
  },
  {
   "cell_type": "code",
   "execution_count": null,
   "id": "6b1d6517",
   "metadata": {},
   "outputs": [],
   "source": [
    "dict = {\"itemOne\": 1, \"itemTwo\": 2, \"itemThree\": 3}\n",
    "\n",
    "##CODE HERE##"
   ]
  },
  {
   "cell_type": "markdown",
   "id": "1a899e91",
   "metadata": {},
   "source": [
    "#### Summary\n",
    "- Tuples: Immutable and ordered; great for fixed data collections.\n",
    "- Dictionaries: Mutable and dynamic; ideal for storing data with unique keys."
   ]
  }
 ],
 "metadata": {
  "kernelspec": {
   "display_name": "Python 3 (ipykernel)",
   "language": "python",
   "name": "python3"
  },
  "language_info": {
   "codemirror_mode": {
    "name": "ipython",
    "version": 3
   },
   "file_extension": ".py",
   "mimetype": "text/x-python",
   "name": "python",
   "nbconvert_exporter": "python",
   "pygments_lexer": "ipython3",
   "version": "3.10.9"
  }
 },
 "nbformat": 4,
 "nbformat_minor": 5
}
