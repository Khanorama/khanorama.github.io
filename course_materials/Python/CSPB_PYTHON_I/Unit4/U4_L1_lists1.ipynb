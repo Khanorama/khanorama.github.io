{
 "cells": [
  {
   "cell_type": "markdown",
   "id": "63c9b6da",
   "metadata": {},
   "source": [
    "# ***PYTHON I | UNIT 4: DATA STRUCTURES | LESSON 1: LISTS PART 1***"
   ]
  },
  {
   "cell_type": "markdown",
   "id": "0957950d",
   "metadata": {},
   "source": [
    "#### What Are Lists?\n",
    "A list is a built-in data structure in Python that can hold multiple items, even of different data types, in a single variable. Lists are:\n",
    "\n",
    "Ordered: Items have a defined order.\n",
    "Mutable: You can modify, add, or remove elements.\n",
    "Dynamic: They can grow or shrink as needed.\n",
    "\n",
    "You can create a list using square brackets `[]`, separating items with commas."
   ]
  },
  {
   "cell_type": "code",
   "execution_count": null,
   "id": "2d689fc2",
   "metadata": {},
   "outputs": [],
   "source": [
    "# A list of integers\n",
    "numbers = [1, 2, 3, 4, 5]\n",
    "\n",
    "# A mixed-type list\n",
    "mixed = [1, \"hello\", 3.14, True]\n",
    "\n",
    "print(numbers)\n",
    "print(mixed)"
   ]
  },
  {
   "cell_type": "markdown",
   "id": "6fadb062",
   "metadata": {},
   "source": [
    "Just like Strings, Lists are zero-indexed, meaning the first element is at index `0`."
   ]
  },
  {
   "cell_type": "code",
   "execution_count": null,
   "id": "1b0bbea0",
   "metadata": {},
   "outputs": [],
   "source": [
    "# Accessing elements by index\n",
    "print(\"First element:\", numbers[0])\n",
    "print(\"Last element:\", numbers[-1])  # Negative indexing"
   ]
  },
  {
   "cell_type": "markdown",
   "id": "6c7d67f9",
   "metadata": {},
   "source": [
    "#### Modifying Lists\n",
    "Lists are mutable, so you can:\n",
    "\n",
    "- Update elements\n",
    "- Add elements using `.append()` or `.insert()`\n",
    "- Remove elements using `.remove()` or `.pop()`"
   ]
  },
  {
   "cell_type": "code",
   "execution_count": null,
   "id": "023a54cc",
   "metadata": {},
   "outputs": [],
   "source": [
    "# Update an element\n",
    "numbers[1] = 10\n",
    "print(\"After update:\", numbers)\n",
    "\n",
    "# Append an element\n",
    "numbers.append(6)\n",
    "print(\"After appending:\", numbers)\n",
    "\n",
    "# Insert an element at a specific position\n",
    "numbers.insert(2, 99)\n",
    "print(\"After inserting:\", numbers)\n",
    "\n",
    "# Remove an element by value\n",
    "numbers.remove(99)\n",
    "print(\"After removing 99:\", numbers)\n",
    "\n",
    "# Remove the last element\n",
    "numbers.pop()\n",
    "print(\"After popping:\", numbers)"
   ]
  },
  {
   "cell_type": "markdown",
   "id": "79bcf4ae",
   "metadata": {},
   "source": [
    "#### Looping Through Lists\n",
    "Just like with Strings, you can use a for loop to iterate over the elements of a list."
   ]
  },
  {
   "cell_type": "code",
   "execution_count": null,
   "id": "9f6753c9",
   "metadata": {},
   "outputs": [],
   "source": [
    "# Iterate and print each element\n",
    "for num in numbers:\n",
    "    print(num)"
   ]
  },
  {
   "cell_type": "markdown",
   "id": "d7a1d27c",
   "metadata": {},
   "source": [
    "#### Checking Membership\n",
    "You can use the `in` operator to check if an item exists in a list."
   ]
  },
  {
   "cell_type": "code",
   "execution_count": null,
   "id": "fa707d91",
   "metadata": {},
   "outputs": [],
   "source": [
    "# Check if an item is in the list\n",
    "print(10 in numbers)  # True\n",
    "print(99 in numbers)  # False"
   ]
  },
  {
   "cell_type": "markdown",
   "id": "6d7c6201",
   "metadata": {},
   "source": [
    "**Create a mixed list below and do the following:**\n",
    "\n",
    "- Print out each item using a for loop\n",
    "- use list methods to alter the items\n",
    "- use the `in` operator to check for items in the loop"
   ]
  },
  {
   "cell_type": "code",
   "execution_count": null,
   "id": "23415ec4",
   "metadata": {},
   "outputs": [],
   "source": [
    "list = []\n",
    "\n",
    "##CODE HERE##"
   ]
  },
  {
   "cell_type": "markdown",
   "id": "6590d928",
   "metadata": {},
   "source": [
    "#### Summary\n",
    "- Lists are versatile and can store multiple data types.\n",
    "- They support indexing, updating, adding, and removing elements.\n",
    "- You can loop through lists or check for the existence of an element.\n",
    "\n",
    "In Part 2, we’ll cover list slicing, common list methods, and advanced operations like sorting and list comprehensions."
   ]
  }
 ],
 "metadata": {
  "kernelspec": {
   "display_name": "Python 3 (ipykernel)",
   "language": "python",
   "name": "python3"
  },
  "language_info": {
   "codemirror_mode": {
    "name": "ipython",
    "version": 3
   },
   "file_extension": ".py",
   "mimetype": "text/x-python",
   "name": "python",
   "nbconvert_exporter": "python",
   "pygments_lexer": "ipython3",
   "version": "3.10.9"
  }
 },
 "nbformat": 4,
 "nbformat_minor": 5
}
