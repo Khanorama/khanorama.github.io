{
 "cells": [
  {
   "cell_type": "markdown",
   "id": "63c9b6da",
   "metadata": {},
   "source": [
    "# ***PYTHON I | UNIT 4: DATA STRUCTURES | LESSON 2: LISTS PART 2***"
   ]
  },
  {
   "cell_type": "markdown",
   "id": "d1a06212",
   "metadata": {},
   "source": [
    "#### List Slicing\n",
    "Slicing allows you to access a portion of a list using the format `list[start:end:step]`.\n",
    "\n",
    "- `start`: Index to begin slicing (inclusive).\n",
    "- `end`: Index to stop slicing (exclusive).\n",
    "- `step`: Interval between elements (optional)."
   ]
  },
  {
   "cell_type": "code",
   "execution_count": null,
   "id": "1eb9fb98",
   "metadata": {},
   "outputs": [],
   "source": [
    "# Sample list\n",
    "numbers = [0, 1, 2, 3, 4, 5, 6, 7, 8, 9]\n",
    "\n",
    "# Get elements from index 2 to 5\n",
    "print(numbers[2:6])  # [2, 3, 4, 5]\n",
    "\n",
    "# Get every second element\n",
    "print(numbers[::2])  # [0, 2, 4, 6, 8]\n",
    "\n",
    "# Reverse the list\n",
    "print(numbers[::-1])  # [9, 8, 7, 6, 5, 4, 3, 2, 1, 0]"
   ]
  },
  {
   "cell_type": "markdown",
   "id": "87a56cdf",
   "metadata": {},
   "source": [
    "#### Common List Methods\n",
    "Here are some common methods for lists:\n",
    "\n",
    "- `len(list)`: Returns the number of items in a list.\n",
    "- `.index(value)`: Returns the index of the first occurrence of a value.\n",
    "- `.count(value)`: Returns the count of a value in the list.\n",
    "- `.sort()`: Sorts the list in ascending order (modifies the list).\n",
    "- `.reverse()`: Reverses the order of the list (modifies the list)."
   ]
  },
  {
   "cell_type": "code",
   "execution_count": null,
   "id": "c7ef0c25",
   "metadata": {},
   "outputs": [],
   "source": [
    "numbers = [3, 1, 4, 1, 5, 9]\n",
    "\n",
    "# Get the length\n",
    "print(\"Length:\", len(numbers))\n",
    "\n",
    "# Find the index of a value\n",
    "print(\"Index of 4:\", numbers.index(4))\n",
    "\n",
    "# Count occurrences\n",
    "print(\"Occurrences of 1:\", numbers.count(1))\n",
    "\n",
    "# Sort the list\n",
    "numbers.sort()\n",
    "print(\"Sorted:\", numbers)\n",
    "\n",
    "# Reverse the list\n",
    "numbers.reverse()\n",
    "print(\"Reversed:\", numbers)"
   ]
  },
  {
   "cell_type": "markdown",
   "id": "2ce74e8b",
   "metadata": {},
   "source": [
    "#### Combining Lists\n",
    "You can combine lists using the `+` operator or the `.extend()` method."
   ]
  },
  {
   "cell_type": "code",
   "execution_count": null,
   "id": "de93e2ce",
   "metadata": {},
   "outputs": [],
   "source": [
    "list1 = [1, 2, 3]\n",
    "list2 = [4, 5, 6]\n",
    "\n",
    "# Using + operator\n",
    "combined = list1 + list2\n",
    "print(\"Combined with +:\", combined)\n",
    "\n",
    "# Using .extend()\n",
    "list1.extend(list2)\n",
    "print(\"Combined with extend:\", list1)"
   ]
  },
  {
   "cell_type": "markdown",
   "id": "cf949933",
   "metadata": {},
   "source": [
    "#### Copying Lists\n",
    "Avoid directly assigning one list to another (`list2 = list1`) as they will share the same memory. Use `.copy()` or slicing to create an independent copy."
   ]
  },
  {
   "cell_type": "code",
   "execution_count": null,
   "id": "e794816e",
   "metadata": {},
   "outputs": [],
   "source": [
    "original = [1, 2, 3]\n",
    "\n",
    "# Create a shallow copy\n",
    "copy = original.copy()\n",
    "\n",
    "# Modify the copy\n",
    "copy.append(4)\n",
    "\n",
    "print(\"Original:\", original)\n",
    "print(\"Copy:\", copy)"
   ]
  }
 ],
 "metadata": {
  "kernelspec": {
   "display_name": "Python 3 (ipykernel)",
   "language": "python",
   "name": "python3"
  },
  "language_info": {
   "codemirror_mode": {
    "name": "ipython",
    "version": 3
   },
   "file_extension": ".py",
   "mimetype": "text/x-python",
   "name": "python",
   "nbconvert_exporter": "python",
   "pygments_lexer": "ipython3",
   "version": "3.10.9"
  }
 },
 "nbformat": 4,
 "nbformat_minor": 5
}
