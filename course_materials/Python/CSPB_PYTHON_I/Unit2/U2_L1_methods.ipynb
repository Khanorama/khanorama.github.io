{
 "cells": [
  {
   "cell_type": "markdown",
   "id": "63c9b6da",
   "metadata": {},
   "source": [
    "# ***PYTHON I | UNIT 2: MODULES & FUNCTIONS | LESSON 1: METHODS***"
   ]
  },
  {
   "cell_type": "markdown",
   "id": "e355b87e",
   "metadata": {},
   "source": [
    "#### What is a Module?\n",
    "\n",
    "In Python, a module is a file containing Python code that can be reused in other Python programs. Modules help organize code into smaller, more manageable pieces, making it easier to maintain and reuse functionality. This may sound increasingly similar to another Python programming component we have talked about, **Functions**.\n",
    "\n",
    "Functions and Modules are similar, but not the same. The difference is that modules **contain** functions, and these functions can be called from the module.\n",
    "\n",
    "In this course, we will talk about the `math` and `random` modules. In *Python II*, you will learn how to make your own modules."
   ]
  },
  {
   "cell_type": "markdown",
   "id": "ec59923c",
   "metadata": {},
   "source": [
    "#### The `math` Module\n",
    "\n",
    "\n",
    "The `math` module provides functions and constants for mathematical calculations. Here are some useful functions from the math module:\n",
    "\n",
    "- `sqrt(x)` Returns square root of x\n",
    "- `cbrt(x)` Returns cube root of x\n",
    "- `pow(x,y)` Returns x raised to the power y\n",
    "- `ceil(x)` Returns the smallest integer greater than or equal to x\n",
    "- `floor(x)` Returns the largest integer less than or equal to x\n",
    "- `factorial(x)` Returns the factorial of x\n",
    "- `trunc(x)` - Returns x with fractional part removed"
   ]
  },
  {
   "cell_type": "markdown",
   "id": "4a51a844",
   "metadata": {},
   "source": [
    "In order to use the functions from the module, we first need to **import** the module:"
   ]
  },
  {
   "cell_type": "code",
   "execution_count": null,
   "id": "b51c8d13",
   "metadata": {},
   "outputs": [],
   "source": [
    "import math"
   ]
  },
  {
   "cell_type": "markdown",
   "id": "e9ad6a45",
   "metadata": {},
   "source": [
    "Now, we can call any of the module's functions to perform tasks for us:"
   ]
  },
  {
   "cell_type": "code",
   "execution_count": null,
   "id": "d8bd5aa1",
   "metadata": {},
   "outputs": [],
   "source": [
    "print(math.sqrt(25))\n",
    "print(math.cbrt(27))\n",
    "print(math.pow(2,4))\n",
    "print(math.ceil(6.22))\n",
    "print(math.floor(6.22))\n",
    "print(math.factorial(4))\n",
    "print(math.trunc(28.3563759273654))"
   ]
  },
  {
   "cell_type": "markdown",
   "id": "1d6fd755",
   "metadata": {},
   "source": [
    "**Sandbox:** Play with the different functions the `math` module offfers and experiment with different numbers:"
   ]
  },
  {
   "cell_type": "code",
   "execution_count": null,
   "id": "f05cda62",
   "metadata": {},
   "outputs": [],
   "source": [
    "## SANDBOX AREA ##"
   ]
  },
  {
   "cell_type": "markdown",
   "id": "43fd7d20",
   "metadata": {},
   "source": [
    "#### The `random` Module\n",
    "The `random` module is used to generate random numbers and perform random selections, making it great for simulations, games, or random sampling. While the `random` module offers many functions, we will be focusing on the `randint()` function."
   ]
  },
  {
   "cell_type": "code",
   "execution_count": null,
   "id": "753940b8",
   "metadata": {},
   "outputs": [],
   "source": [
    "x = 1\n",
    "y = 10\n",
    "\n",
    "import random\n",
    "\n",
    "# Generates a random integer from x to y, inclusive\n",
    "random.randint(x,y)"
   ]
  },
  {
   "cell_type": "markdown",
   "id": "32fcac76",
   "metadata": {},
   "source": [
    "Note that unlike slicing which we learned about previously, the end index here is **inclusive**. That means that `10` is also a possible randomly generated value."
   ]
  },
  {
   "cell_type": "markdown",
   "id": "d74db7ef",
   "metadata": {},
   "source": [
    "#### String Methods\n",
    "\n",
    "String methods in Python are built-in functions that operate on string objects. They allow you to manipulate, analyze, and process strings efficiently. These methods can help you perform various operations, such as changing the case of characters, searching for substrings, splitting or joining strings, and validating content.\n",
    "\n",
    "Here are key characteristics of string methods:  \n",
    "- **Immutable Operations**: String methods do not modify the original string. Instead, they return a new string or result, leaving the original string unchanged.  \n",
    "- **Convenience**: They simplify complex operations, such as replacing characters or formatting strings.  \n",
    "- **Ease of Use**: String methods are called directly on string objects using dot notation, e.g., `\"example\".upper()`.\n",
    "\n",
    "String methods are invaluable for tasks involving text manipulation, from parsing user input to formatting output in a program.\n",
    "\n",
    "Here are ten of the most useful and common Python string methods:\n",
    "\n",
    "- `lower()` - Converts all characters in a string to lowercase.  \n",
    "  Example: `\"Hello\".lower()` → `'hello'`\n",
    "\n",
    "- `upper()` - Converts all characters in a string to uppercase.  \n",
    "  Example: `\"hello\".upper()` → `'HELLO'`\n",
    "\n",
    "- `strip()` - Removes leading and trailing whitespace (or specified characters) from a string.  \n",
    "  Example: `\"  hello  \".strip()` → `'hello'`\n",
    "\n",
    "- `replace(old, new)` - Replaces all occurrences of a substring with another substring.  \n",
    "  Example: `\"hello world\".replace(\"world\", \"Python\")` → `'hello Python'`\n",
    "\n",
    "- `split(separator)` - Splits a string into a list of substrings based on a separator.  \n",
    "  Example: `\"a,b,c\".split(\",\")` → `['a', 'b', 'c']`\n",
    "\n",
    "- `join(iterable)` - Joins the elements of an iterable into a string, using the string as a separator.  \n",
    "  Example: `\",\".join(['a', 'b', 'c'])` → `'a,b,c'`\n",
    "\n",
    "- `find(sub)` - Returns the index of the first occurrence of a substring, or `-1` if not found.  \n",
    "  Example: `\"hello\".find(\"e\")` → `1`\n",
    "\n",
    "- `startswith(prefix)` - Checks if a string starts with the specified prefix.  \n",
    "  Example: `\"hello\".startswith(\"he\")` → `True`\n",
    "\n",
    "- `endswith(suffix)` - Checks if a string ends with the specified suffix.  \n",
    "  Example: `\"hello\".endswith(\"lo\")` → `True`\n",
    "\n",
    "- `isnumeric()` - Returns `True` if the string contains only numeric characters.  \n",
    "  Example: `\"123\".isnumeric()` → `True`\n",
    "  \n",
    "*On your unit test, you will be given a refrence sheet of these String methods. You will __NOT__ recieve a refrence of Math and Random methods.*  \n",
    "  \n",
    "**In the cell below, try to manipulate the given sentences using the above methods.**"
   ]
  },
  {
   "cell_type": "code",
   "execution_count": 2,
   "id": "246fa85d",
   "metadata": {},
   "outputs": [],
   "source": [
    "alphaSentence = \"My name is Ali. I am really into Python. Programming is my dream, and I love cookies.\"\n",
    "numSentence = 145673753836439347493748936736\n",
    "\n",
    "##SANDBOX AREA##"
   ]
  }
 ],
 "metadata": {
  "kernelspec": {
   "display_name": "Python 3 (ipykernel)",
   "language": "python",
   "name": "python3"
  },
  "language_info": {
   "codemirror_mode": {
    "name": "ipython",
    "version": 3
   },
   "file_extension": ".py",
   "mimetype": "text/x-python",
   "name": "python",
   "nbconvert_exporter": "python",
   "pygments_lexer": "ipython3",
   "version": "3.10.9"
  }
 },
 "nbformat": 4,
 "nbformat_minor": 5
}
