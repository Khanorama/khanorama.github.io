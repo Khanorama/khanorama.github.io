{
 "cells": [
  {
   "cell_type": "markdown",
   "id": "82d33782",
   "metadata": {},
   "source": [
    "# ***PYTHON I | UNIT 1: VARIABLES & BASIC FUNCTIONS | PROGRESS CHECK 1 (L1-L3)***"
   ]
  },
  {
   "cell_type": "markdown",
   "id": "999f4345",
   "metadata": {},
   "source": [
    "### Problem 1\n",
    "\n",
    "Write a program using comparison operators, equality checkers and the given integer variables to produces the following output:\n",
    "\n",
    "`True`\n",
    "\n",
    "`True`\n",
    "\n",
    "`False`\n",
    "\n",
    "`True`"
   ]
  },
  {
   "cell_type": "code",
   "execution_count": 1,
   "id": "84e2437c",
   "metadata": {},
   "outputs": [],
   "source": [
    "a = 1\n",
    "b = 2\n",
    "c = -1\n",
    "d = -2\n",
    "\n",
    "##CODE HERE##"
   ]
  },
  {
   "cell_type": "markdown",
   "id": "4776df69",
   "metadata": {},
   "source": [
    "### Problem 2\n",
    "\n",
    "Using *only* the given variables, string concatenation, and ***one*** `print()` statement, produce the following output:\n",
    "\n",
    "`brggra smibrg ttraaa`"
   ]
  },
  {
   "cell_type": "code",
   "execution_count": null,
   "id": "3e0c937a",
   "metadata": {},
   "outputs": [],
   "source": [
    "s = \"brg\"\n",
    "t = \"rde\"\n",
    "u = \"gra\"\n",
    "v = \" \"\n",
    "w = \"ttr\"\n",
    "x = \"sni\"\n",
    "y = \"smi\"\n",
    "z = \"aaa\"\n",
    "\n",
    "print()"
   ]
  },
  {
   "cell_type": "markdown",
   "id": "f3bcfd50",
   "metadata": {},
   "source": [
    "### Problem 3\n",
    "\n",
    "Write a program using the given variables (you must define the variables), ***all*** math operations, and ***one*** `print()` statement to produce the following output:\n",
    "\n",
    "`14`"
   ]
  },
  {
   "cell_type": "code",
   "execution_count": null,
   "id": "3303c199",
   "metadata": {},
   "outputs": [],
   "source": [
    "##CODE HERE##\n",
    "\n",
    "print(h-i+j-k)"
   ]
  },
  {
   "cell_type": "markdown",
   "id": "f60f54b7",
   "metadata": {},
   "source": [
    "### Problem 4\n",
    "\n",
    "By **ONLY** slicing the following string and appending to the `out` variable, produce the following output:\n",
    "\n",
    "`greCode itendou hon i`"
   ]
  },
  {
   "cell_type": "code",
   "execution_count": null,
   "id": "b9b5d9d3",
   "metadata": {},
   "outputs": [],
   "source": [
    "sentence = \"Coding with CodeStar in Python is stupendously great!\"\n",
    "\n",
    "\n",
    "out = \n",
    "##CODE HERE##\n",
    "\n",
    "print(out)"
   ]
  },
  {
   "cell_type": "markdown",
   "id": "69e01419",
   "metadata": {},
   "source": [
    "### Problem 5\n",
    "\n",
    "In 2-3 sentences, explain the difference between an Integer and a Float. Be sure to mention how mathematical operations are impacted when they are used together."
   ]
  },
  {
   "cell_type": "markdown",
   "id": "707b7532",
   "metadata": {},
   "source": [
    "***Type Here***"
   ]
  }
 ],
 "metadata": {
  "kernelspec": {
   "display_name": "Python 3 (ipykernel)",
   "language": "python",
   "name": "python3"
  },
  "language_info": {
   "codemirror_mode": {
    "name": "ipython",
    "version": 3
   },
   "file_extension": ".py",
   "mimetype": "text/x-python",
   "name": "python",
   "nbconvert_exporter": "python",
   "pygments_lexer": "ipython3",
   "version": "3.10.9"
  }
 },
 "nbformat": 4,
 "nbformat_minor": 5
}
