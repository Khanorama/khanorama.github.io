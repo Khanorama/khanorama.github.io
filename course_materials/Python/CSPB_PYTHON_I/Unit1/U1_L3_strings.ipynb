{
 "cells": [
  {
   "cell_type": "markdown",
   "id": "4726bdc1",
   "metadata": {},
   "source": [
    "# ***PYTHON I | UNIT 1: VARIABLES & DATATYPES | LESSON 3: STRINGS***"
   ]
  },
  {
   "cell_type": "markdown",
   "id": "78153ed1",
   "metadata": {},
   "source": [
    "In Python, a **string** is a sequence of characters used to represent text. Strings are created by enclosing text in single quotes (`'Hello'`), double quotes (`\"Hello\"`), or triple quotes for multi-line text (`'''Hello'''` or `\"\"\"Hello\"\"\"`). \n",
    "\n",
    "Strings can hold letters, numbers, symbols, and spaces, but they are always treated as text—even numbers within a string (`\"123\"`). They are **immutable**, meaning once created, their content cannot be changed directly. However, you can create new strings based on existing ones.\n",
    "\n",
    "Strings are highly versatile in Python and come with many built-in methods for manipulation, such as:\n",
    "\n",
    "- **Concatenation**: Joining strings with `+` (e.g., `\"Hello, \" + \"world!\"`).\n",
    "- **Slicing**: Accessing specific parts of the string (e.g., `\"Hello\"[1:4]` gives `\"ell\"`).\n",
    "- **Methods (We will learn about this later)**: Functions like `.upper()`, `.lower()`, `.replace()`, and `.strip()` that make it easy to manipulate text.\n",
    "\n",
    "Strings are commonly used in programming for displaying messages, processing text, and interacting with users. Lets look at some ways we can work with strings in Python:"
   ]
  },
  {
   "cell_type": "markdown",
   "id": "df23a1b1",
   "metadata": {},
   "source": [
    "**Concatenation:**"
   ]
  },
  {
   "cell_type": "code",
   "execution_count": null,
   "id": "78ce01f9",
   "metadata": {},
   "outputs": [],
   "source": [
    "string1 = \"Python\"\n",
    "string2 = \" is \"\n",
    "string3 = \"great\"\n",
    "\n",
    "# Out: Python is great!\n",
    "print(string1 + string2 + string3 + \"!\")"
   ]
  },
  {
   "cell_type": "markdown",
   "id": "3c5adf95",
   "metadata": {},
   "source": [
    "Before we talk about slicing, we first need to talk about indexing. The index of a character in a string represents its location within the string. For example: in the string `\"Hello\"`:\n",
    "\n",
    "- `'H'` is character #1\n",
    "- `'e'` is character #2\n",
    "- `'l'` is character #3\n",
    "- `'l'` is character #4\n",
    "- `'o'` is character #5\n",
    "\n",
    "Each character has an index (a number) representing its spot. Indexing in Python string is very similar, with 1 minor change; the counting begins from 0. So the indexing of the string `\"Hello\"` would look like this:\n",
    "\n",
    "- `'H'` is index `0`\n",
    "- `'e'` is index `1`\n",
    "- `'l'` is index `2`\n",
    "- `'l'` is index `3`\n",
    "- `'o'` is index `4`\n",
    "\n",
    "**Indexing:**"
   ]
  },
  {
   "cell_type": "code",
   "execution_count": null,
   "id": "d3cb040c",
   "metadata": {},
   "outputs": [],
   "source": [
    "# syntax: print(variableName[index])\n",
    "\n",
    "string = \"Hello\"\n",
    "\n",
    "print(string[0])\n",
    "print(string[1])\n",
    "print(string[2])\n",
    "print(string[3])\n",
    "print(string[4])"
   ]
  },
  {
   "cell_type": "code",
   "execution_count": null,
   "id": "414de0e6",
   "metadata": {},
   "outputs": [],
   "source": [
    "# Remember, strings are immutable. This is NOT allowed:\n",
    "string[1] = 'Y'\n",
    "\n",
    "print(string) #Expected Out: Yello"
   ]
  },
  {
   "cell_type": "markdown",
   "id": "56aaccb1",
   "metadata": {},
   "source": [
    "Now that you understand indexing, let’s move on to slicing.\n",
    "\n",
    "While we cannot directly alter a string, we can extract specific parts of it through **slicing**. Slicing allows us to create a new string containing only a portion of the original. Here are three common ways to slice a string:\n",
    "\n",
    "- `new_string = string[1:]` → Result: `\"ello\"`\n",
    "- `new_string = string[:3]` → Result: `\"Hel\"`\n",
    "- `new_string = string[1:3]` → Result: `\"el\"`\n",
    "\n",
    "You may notice that in the last two examples, the final index is skipped. This isn’t a mistake! In Python, slicing is **exclusive** of the end index, meaning the slice stops just *before* the final index given. Note that this exclisivity only applies to the ending index. The slicing *always* starts exactly at the specified starting index.\n",
    "\n",
    "**Slicing:**"
   ]
  },
  {
   "cell_type": "code",
   "execution_count": null,
   "id": "3e373c42",
   "metadata": {},
   "outputs": [],
   "source": [
    "words = \"coding warms the heart\"\n",
    "\n",
    "slice1 = ##CODE HERE##\n",
    "slice2 = ##CODE HERE##\n",
    "slice3 = ##CODE HERE##\n",
    "\n",
    "\n",
    "print(slice1)\n",
    "print(slice2)\n",
    "print(slice3)"
   ]
  },
  {
   "cell_type": "markdown",
   "id": "0ae7e1fe",
   "metadata": {},
   "source": [
    "In the next lesson, we will cover the rest of the Python datatypes (**Integer**, **Float**, **Boolean**)."
   ]
  }
 ],
 "metadata": {
  "kernelspec": {
   "display_name": "Python 3 (ipykernel)",
   "language": "python",
   "name": "python3"
  },
  "language_info": {
   "codemirror_mode": {
    "name": "ipython",
    "version": 3
   },
   "file_extension": ".py",
   "mimetype": "text/x-python",
   "name": "python",
   "nbconvert_exporter": "python",
   "pygments_lexer": "ipython3",
   "version": "3.10.9"
  }
 },
 "nbformat": 4,
 "nbformat_minor": 5
}
