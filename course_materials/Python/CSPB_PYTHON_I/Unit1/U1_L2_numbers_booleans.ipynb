{
 "cells": [
  {
   "cell_type": "markdown",
   "id": "4726bdc1",
   "metadata": {},
   "source": [
    "# ***PYTHON I | UNIT 1: VARIABLES & DATATYPES | LESSON 2: NUMBERS & BOOLEANS***"
   ]
  },
  {
   "cell_type": "markdown",
   "id": "16a15c37",
   "metadata": {},
   "source": [
    "### What is a datatype?\n",
    "\n",
    "A **datatype** in programming defines the kind of data a variable can hold and determines what operations can be performed on it. In this course, we will work with 4 Python datatypes:\n",
    "\n",
    "- **String**: Text, enclosed in quotes, like `\"Hello\"` or `\"123\"`.\n",
    "- **Integer**: Whole numbers, like 5 or -10.\n",
    "- **Float**: Decimal numbers, like 3.14 or -0.5.\n",
    "- **Boolean**: Represents `True` or `False` values.\n",
    "\n",
    "Datatypes are essential because they help the program understand how to handle different types of data correctly.\n",
    "Practical Definition: Think of a function as a block of code designed to do one specific task. That same block can be reused in many areas in the program with different inputs. Functions help programmers though saving time and memory.\n",
    "\n",
    "Lets look at each datatype more closely."
   ]
  },
  {
   "cell_type": "markdown",
   "id": "1932162c",
   "metadata": {},
   "source": [
    "### Integers\n",
    "\n",
    "In Python, integers are real, **whole** numbers. We can perform the basic math operations(`+,-,*,/`) on integers. Lets look at an example:"
   ]
  },
  {
   "cell_type": "code",
   "execution_count": null,
   "id": "11fcb9bf",
   "metadata": {},
   "outputs": [],
   "source": [
    "val1 = 8\n",
    "val2 = 2\n",
    "\n",
    "print(val1+val2)\n",
    "print(val1-val2)\n",
    "print(val1*val2)\n",
    "print(val1/val2)"
   ]
  },
  {
   "cell_type": "markdown",
   "id": "30658f40",
   "metadata": {},
   "source": [
    "### Floats\n",
    "In Python, floats are real, **decimal** numbers. We can perform the basic math operations(`+,-,*,/`) on floats. Lets look at an example:"
   ]
  },
  {
   "cell_type": "code",
   "execution_count": null,
   "id": "4d24631b",
   "metadata": {},
   "outputs": [],
   "source": [
    "val1 = 8.5\n",
    "val2 = 2.5\n",
    "\n",
    "print(val1+val2)\n",
    "print(val1-val2)\n",
    "print(val1*val2)\n",
    "print(val1/val2)"
   ]
  },
  {
   "cell_type": "markdown",
   "id": "6f07517d",
   "metadata": {},
   "source": [
    "### Integers vs. Floats\n",
    "\n",
    "In Python, both **integers** and **floats** are numerical datatypes, but they represent different kinds of numbers:\n",
    "\n",
    "- **Integers** are whole numbers, without any decimal point (e.g., `3`, `-7`, `42`).\n",
    "- **Floats** are numbers that include a decimal point, allowing them to represent fractional values (e.g., `3.0`, `-7.5`, `42.42`).\n",
    "\n",
    "Python allows you to freely perform arithmetic operations between integers and floats. When you mix them in an operation, Python will automatically **convert the result to a float** to ensure it can represent any fractional part of the calculation accurately. For example, adding an integer (`3`) to a float (`4.5`) results in `7.5`, a float. \n",
    "\n",
    "This automatic conversion from integer to float, called **implicit type conversion**, ensures accuracy in mathematical operations. Lets look at an example:"
   ]
  },
  {
   "cell_type": "code",
   "execution_count": null,
   "id": "32f0dd44",
   "metadata": {},
   "outputs": [],
   "source": [
    "val1 = 4\n",
    "val2 = 4.5\n",
    "\n",
    "print(val1+val2)\n",
    "print(val1-val2)\n",
    "print(val1*val2)\n",
    "print(val1/val2)"
   ]
  },
  {
   "cell_type": "markdown",
   "id": "61fa0c9e",
   "metadata": {},
   "source": [
    "What do you think this will output:"
   ]
  },
  {
   "cell_type": "code",
   "execution_count": null,
   "id": "10fecade",
   "metadata": {},
   "outputs": [],
   "source": [
    "print(8 + 4.0)"
   ]
  },
  {
   "cell_type": "markdown",
   "id": "f5e9456d",
   "metadata": {},
   "source": [
    "### Boolean\n",
    "\n",
    "In Python, a **Boolean** is a data type with only two possible values: `True` or `False`. Booleans are used to represent the truth or falsity of a condition, and they play a crucial role in decision-making within a program.\n",
    "\n",
    "Booleans are often the result of comparison or logical operations. For example:\n",
    "\n",
    "- **Comparison**: `5 > 3` evaluates to `True`, while `5 < 3` evaluates to `False`.\n",
    "- **Equality check**: `7 == 7` is `True`, but `7 == 8` is `False`.\n",
    "\n",
    "You can also combine Booleans with **logical operators** to create more complex conditions **(we will learn about these later)**:\n",
    "\n",
    "- **and**: Both conditions must be `True` (e.g., `(5 > 3) and (2 < 4)` → `True`).\n",
    "- **or**: At least one condition must be `True` (e.g., `(5 < 3) or (2 < 4)` → `True`).\n",
    "- **not**: Reverses the Boolean value (e.g., `not (5 > 3)` → `False`).\n",
    "\n",
    "Lets look at an example:"
   ]
  },
  {
   "cell_type": "code",
   "execution_count": null,
   "id": "0fc34e8f",
   "metadata": {},
   "outputs": [],
   "source": [
    "bool1 = True # Note the capitalization\n",
    "bool2 = False # Note the capitalization\n",
    "\n",
    "print(bool1)\n",
    "print(bool2)"
   ]
  },
  {
   "cell_type": "markdown",
   "id": "aa94fb27",
   "metadata": {},
   "source": [
    "Equality Check:"
   ]
  },
  {
   "cell_type": "code",
   "execution_count": null,
   "id": "1dd34e90",
   "metadata": {},
   "outputs": [],
   "source": [
    "print(bool1 == True)\n",
    "print(bool2 == True)\n",
    "\n",
    "print(bool1 == False)\n",
    "print(bool2 == False)\n",
    "\n",
    "print(bool1 == bool2)"
   ]
  },
  {
   "cell_type": "markdown",
   "id": "821e2fbd",
   "metadata": {},
   "source": [
    "Comparison:"
   ]
  },
  {
   "cell_type": "code",
   "execution_count": null,
   "id": "caa6cbbf",
   "metadata": {},
   "outputs": [],
   "source": [
    "val1 = 2\n",
    "val2 = 3\n",
    "\n",
    "print(val1 > 2)\n",
    "print(val2 > 2)\n",
    "print(val1 < val2)"
   ]
  },
  {
   "cell_type": "markdown",
   "id": "19d7e59c",
   "metadata": {},
   "source": [
    "### Numbers & Booleans Activity\n",
    "\n",
    "Try to assign the right ints, floats, and booleans to the variables to get the output below. **You must use exactly 8 variables**, and You must use ***both*** inequalities (`<,>`) and equality checkers (`==`):\n",
    "\n",
    "`2`\n",
    "\n",
    "`True` \n",
    "\n",
    "`-1` \n",
    "\n",
    "`True` \n",
    "\n",
    "`False` \n",
    "\n",
    "`11.2` \n"
   ]
  },
  {
   "cell_type": "code",
   "execution_count": null,
   "id": "51968200",
   "metadata": {},
   "outputs": [],
   "source": [
    "var1 = \n",
    "var2 = \n",
    "var3 = \n",
    "var4 = \n",
    "var5 = \n",
    "var6 = \n",
    "var7 = \n",
    "var8 = \n",
    "\n",
    "print()\n",
    "print()\n",
    "print()\n",
    "print()\n",
    "print()\n",
    "print()"
   ]
  },
  {
   "cell_type": "markdown",
   "id": "5139638d",
   "metadata": {},
   "source": [
    "In the next lesson, we will take a look at Strings, which can be manipulated in many more ways."
   ]
  }
 ],
 "metadata": {
  "kernelspec": {
   "display_name": "Python 3 (ipykernel)",
   "language": "python",
   "name": "python3"
  },
  "language_info": {
   "codemirror_mode": {
    "name": "ipython",
    "version": 3
   },
   "file_extension": ".py",
   "mimetype": "text/x-python",
   "name": "python",
   "nbconvert_exporter": "python",
   "pygments_lexer": "ipython3",
   "version": "3.10.9"
  }
 },
 "nbformat": 4,
 "nbformat_minor": 5
}
