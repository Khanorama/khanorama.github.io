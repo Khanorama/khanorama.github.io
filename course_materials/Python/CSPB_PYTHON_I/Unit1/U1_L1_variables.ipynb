{
 "cells": [
  {
   "cell_type": "markdown",
   "id": "4726bdc1",
   "metadata": {},
   "source": [
    "# ***PYTHON I | UNIT 1: VARIABLES & BASIC FUNCTIONS | LESSON 1: Variables***"
   ]
  },
  {
   "cell_type": "markdown",
   "id": "670b2d1a",
   "metadata": {},
   "source": [
    "## Welcome to Unit 1! In this unit, we'll dive into the foundational systems of Python, covering essential concepts and tools that will set you up for success as you build your skills in programming with Python. Let’s get started!"
   ]
  },
  {
   "cell_type": "markdown",
   "id": "8a574aac",
   "metadata": {},
   "source": [
    "### What is a function?\n",
    "\n",
    "Technical Definition: In programming, A function is a reusable block of code designed to perform a specific task. It takes inputs, called parameters or arguments, processes them, and then returns an output. Functions help break down complex problems into smaller, manageable parts, improve code readability, and avoid repetition by allowing you to call the same code multiple times with different inputs.\n",
    "\n",
    "Practical Definition: Think of a function as a block of code designed to do one specific task. That same block can be reused in many areas in the program with different inputs. Functions help programmers though saving time and memory.\n",
    "\n",
    "An example of a function is the `print()` function:"
   ]
  },
  {
   "cell_type": "code",
   "execution_count": null,
   "id": "78ce01f9",
   "metadata": {},
   "outputs": [],
   "source": [
    "# syntax: print(text to be printed)\n",
    "\n",
    "print(\"Hello World!\")"
   ]
  },
  {
   "cell_type": "markdown",
   "id": "dc966324",
   "metadata": {},
   "source": [
    "In our next unit, you will learn how to write your own functions to simplify complex tasks.\n",
    "Now, use the `print()` function to provide the following outputs:"
   ]
  },
  {
   "cell_type": "code",
   "execution_count": null,
   "id": "3395431b",
   "metadata": {},
   "outputs": [],
   "source": [
    "# Out: I love Python!\n",
    "##CODE HERE##\n",
    "\n",
    "# Out: abcdefghijklmnopqrstuvwxyz\n",
    "##CODE HERE##\n",
    "\n",
    "# Out: 1234567890\n",
    "##CODE HERE##"
   ]
  },
  {
   "cell_type": "markdown",
   "id": "6f07517d",
   "metadata": {},
   "source": [
    "### What is a variable?\n",
    "\n",
    "Technical Definition: In programming, a variable is a named storage location in memory that holds a value, which can be changed or updated as needed throughout a program. Variables allow programmers to store, retrieve, and manipulate data by referencing these names rather than using the data directly, making code more flexible and readable.\n",
    "\n",
    "Practical Definition: Think of a variable as a labeled box where you can store any item you want. By giving the box a name, you can place something inside and easily find or replace it whenever you need. In programming, variables are powerful tools because they can hold different types of data, be updated as needed, and reused throughout a program, demonstrating the concept of abstraction (more on that later!)."
   ]
  },
  {
   "cell_type": "markdown",
   "id": "da66aa28",
   "metadata": {},
   "source": [
    "#### This is how we code variables in Python:"
   ]
  },
  {
   "cell_type": "code",
   "execution_count": null,
   "id": "32f0dd44",
   "metadata": {},
   "outputs": [],
   "source": [
    "# syntax: variableName = value\n",
    "\n",
    "age = 15\n",
    "city = \"Chicago\""
   ]
  },
  {
   "cell_type": "markdown",
   "id": "61fa0c9e",
   "metadata": {},
   "source": [
    "`age` is the variable name, and `15` is its newly assigned value.\n",
    "\n",
    "We can output the value of `age` using the `print()` function:"
   ]
  },
  {
   "cell_type": "code",
   "execution_count": null,
   "id": "10fecade",
   "metadata": {},
   "outputs": [],
   "source": [
    "print(age)\n",
    "print(city)"
   ]
  },
  {
   "cell_type": "markdown",
   "id": "f5e9456d",
   "metadata": {},
   "source": [
    "While using variables to print a single value might seem unnecessary, they become crucial in larger projects. For example, in a program that processes multiple numbers and performs various calculations, variables help you efficiently manage and track different values and operations. This makes the code more organized, readable, and adaptable.\n",
    "\n",
    "Now, it's your turn to try and code some variables:"
   ]
  },
  {
   "cell_type": "code",
   "execution_count": null,
   "id": "0fc34e8f",
   "metadata": {},
   "outputs": [],
   "source": [
    "##CODE HERE##\n",
    "##CODE HERE##\n",
    "##CODE HERE##\n",
    "\n",
    "# Out: 77\n",
    "print(number)\n",
    "\n",
    "# Out: This is a cool sentence!\n",
    "print(coolSentence)\n",
    "\n",
    "# Out: A1B2C3\n",
    "print(lettersAndNumbers)"
   ]
  }
 ],
 "metadata": {
  "kernelspec": {
   "display_name": "Python 3 (ipykernel)",
   "language": "python",
   "name": "python3"
  },
  "language_info": {
   "codemirror_mode": {
    "name": "ipython",
    "version": 3
   },
   "file_extension": ".py",
   "mimetype": "text/x-python",
   "name": "python",
   "nbconvert_exporter": "python",
   "pygments_lexer": "ipython3",
   "version": "3.10.9"
  }
 },
 "nbformat": 4,
 "nbformat_minor": 5
}
